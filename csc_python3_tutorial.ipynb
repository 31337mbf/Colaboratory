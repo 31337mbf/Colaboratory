{
  "nbformat": 4,
  "nbformat_minor": 0,
  "metadata": {
    "colab": {
      "name": "csc-python3-tutorial.ipynb",
      "version": "0.3.2",
      "provenance": [],
      "include_colab_link": true
    },
    "kernelspec": {
      "display_name": "Python 3",
      "language": "python",
      "name": "python3"
    }
  },
  "cells": [
    {
      "cell_type": "markdown",
      "metadata": {
        "id": "view-in-github",
        "colab_type": "text"
      },
      "source": [
        "<a href=\"https://colab.research.google.com/github/31337mbf/Colaboratory/blob/master/csc_python3_tutorial.ipynb\" target=\"_parent\"><img src=\"https://colab.research.google.com/assets/colab-badge.svg\" alt=\"Open In Colab\"/></a>"
      ]
    },
    {
      "metadata": {
        "id": "n0XUYI2Doy1U",
        "colab_type": "text"
      },
      "cell_type": "markdown",
      "source": [
        "## Краткий туториал по Python 3"
      ]
    },
    {
      "metadata": {
        "id": "53Pdz_WZoy1W",
        "colab_type": "text"
      },
      "cell_type": "markdown",
      "source": [
        "Данное руководство ни в коем случае не предентует на полноту изложения\n",
        "\n",
        "На курсе мы используем `python 3.6+`\n",
        "\n",
        "Полезные ссылки:\n",
        "\n",
        "- Официальная документация Python 3.6: https://docs.python.org/3.6/\n",
        "- Официальное руководство с примерами: https://docs.python.org/3.6/tutorial/index.html\n",
        "\n",
        "- Официальная документация Python 3.7: https://docs.python.org/3.7/\n",
        "- Официальное руководство с примерами: https://docs.python.org/3.7/tutorial/index.html\n",
        "\n",
        "- Различия между Python2 и Python3 https://wiki.python.org/moin/Python2orPython3"
      ]
    },
    {
      "metadata": {
        "id": "29E-FErXoy1X",
        "colab_type": "text"
      },
      "cell_type": "markdown",
      "source": [
        "### Установка пакетов\n",
        "\n",
        "**pip** - стандартный способ установки python пакетов"
      ]
    },
    {
      "metadata": {
        "id": "CVftuyjloy1Y",
        "colab_type": "text"
      },
      "cell_type": "markdown",
      "source": [
        "```\n",
        "pip install numpy\n",
        "pip install numpy==1.16.1\n",
        "pip install git+https://github.com/username/repo.git\n",
        "pip install --user numpy\n",
        "pip install --upgrade numpy\n",
        "\n",
        "pip install -r requirements.txt\n",
        "pip freeze > requirements.txt\n",
        "\n",
        "pip uninstall numpy\n",
        "```"
      ]
    },
    {
      "metadata": {
        "id": "PdmdlUMJoy1Z",
        "colab_type": "text"
      },
      "cell_type": "markdown",
      "source": [
        "**Пакет** - архив с необходимыми для локального использования файлами\n",
        "\n",
        "- актуальные форматы пакетов:\n",
        "    - wheel (уже собранные, требуется только положить в правильную папку)\n",
        "    - sdist (требует компиляции)\n",
        "- неактуальный:\n",
        "    - egg (бинарный)"
      ]
    },
    {
      "metadata": {
        "id": "ZYEJ6UE3oy1a",
        "colab_type": "text"
      },
      "cell_type": "markdown",
      "source": [
        "### Виртуальное окружение\n",
        "\n",
        "- Что, если нужно использовать две разные версии одной и той же библиотеки?\n",
        "- Страшно что-то сломать при обновлении пакетов?\n",
        "- Недостаточно прав для установки пакетов?\n",
        "\n",
        "**Решение**: использовать виртуальное окружение"
      ]
    },
    {
      "metadata": {
        "id": "E0SM_7axoy1b",
        "colab_type": "text"
      },
      "cell_type": "markdown",
      "source": [
        "Широко используются две реализации: [virtualenv](https://virtualenv.pypa.io/en/latest/) и [venv](https://docs.python.org/3/library/venv.html)\n",
        "\n",
        "`venv` поставляется с дистрибутивом Python 3.3+, `virtualenv` поддерживает Python 2.6+\n",
        "\n",
        "[обзор альтернативных решений](https://stackoverflow.com/questions/41573587/what-is-the-difference-between-venv-pyvenv-pyenv-virtualenv-virtualenvwrappe/41573588#41573588)"
      ]
    },
    {
      "metadata": {
        "id": "1NEgpo1loy1c",
        "colab_type": "text"
      },
      "cell_type": "markdown",
      "source": [
        "**Типовое использование**\n",
        "\n",
        "```\n",
        "# virtualenv\n",
        "virtualenv VENV_PATH\n",
        "source VENV_PATH/bin/activate\n",
        "```\n",
        "\n",
        "```\n",
        "# venv\n",
        "python3 -m venv VENV_PATH\n",
        "source VENV_PATH/bin/activate  # or . VENV_PATH/bin/activate\n",
        "```\n",
        "\n",
        "В текущей сессии команда python будет запускать интерпретатор из окружения и новые пакеты будут тоже устанавливаться в него\n",
        "\n",
        "Чтобы деактивировать:\n",
        "\n",
        "```\n",
        "deactivate\n",
        "```"
      ]
    },
    {
      "metadata": {
        "id": "PsD35K2qoy1d",
        "colab_type": "text"
      },
      "cell_type": "markdown",
      "source": [
        "Ну и, конечно, всегда можно использовать [Anaconda](https://www.anaconda.com/) (но лучше привыкать к `venv`)"
      ]
    },
    {
      "metadata": {
        "id": "L3cCyq18oy1e",
        "colab_type": "text"
      },
      "cell_type": "markdown",
      "source": [
        "### Python"
      ]
    },
    {
      "metadata": {
        "id": "Gk-vyjYhoy1f",
        "colab_type": "text"
      },
      "cell_type": "markdown",
      "source": [
        "### Базовые типы данных и операции"
      ]
    },
    {
      "metadata": {
        "id": "TcadjQ_goy1g",
        "colab_type": "text"
      },
      "cell_type": "markdown",
      "source": [
        "**Арифметические**\n",
        "\n",
        "- int\n",
        "- float"
      ]
    },
    {
      "metadata": {
        "id": "-Go73Ek4oy1i",
        "colab_type": "text"
      },
      "cell_type": "markdown",
      "source": [
        "В Python, кроме обычных для других языков арифметических операций, есть и необычные, например, возведение в степень"
      ]
    },
    {
      "metadata": {
        "id": "WJJy4WFkoy1j",
        "colab_type": "code",
        "colab": {},
        "outputId": "24ab61c0-3231-4f26-bf24-a0aea51ae8c1"
      },
      "cell_type": "code",
      "source": [
        "1 + 2 * (3 ** 2) / 7"
      ],
      "execution_count": 0,
      "outputs": [
        {
          "output_type": "execute_result",
          "data": {
            "text/plain": [
              "3.5714285714285716"
            ]
          },
          "metadata": {
            "tags": []
          },
          "execution_count": 1
        }
      ]
    },
    {
      "metadata": {
        "id": "XJKI9lDQoy1r",
        "colab_type": "code",
        "colab": {},
        "outputId": "a04ddd79-0377-4d24-e811-aaad872403ce"
      },
      "cell_type": "code",
      "source": [
        "(1 << 2) | (4 >> 2)"
      ],
      "execution_count": 0,
      "outputs": [
        {
          "output_type": "execute_result",
          "data": {
            "text/plain": [
              "5"
            ]
          },
          "metadata": {
            "tags": []
          },
          "execution_count": 2
        }
      ]
    },
    {
      "metadata": {
        "id": "K9HpP2jioy1v",
        "colab_type": "text"
      },
      "cell_type": "markdown",
      "source": [
        "В Python встроена длинная арифметика"
      ]
    },
    {
      "metadata": {
        "id": "FUg1_Rfzoy1w",
        "colab_type": "code",
        "colab": {},
        "outputId": "3a1fe6e4-9789-464b-b564-77971c2cd99d"
      },
      "cell_type": "code",
      "source": [
        "print(2 ** 300, type(2 ** 300))"
      ],
      "execution_count": 0,
      "outputs": [
        {
          "output_type": "stream",
          "text": [
            "2037035976334486086268445688409378161051468393665936250636140449354381299763336706183397376 <class 'int'>\n"
          ],
          "name": "stdout"
        }
      ]
    },
    {
      "metadata": {
        "id": "D3U-FHHuoy12",
        "colab_type": "text"
      },
      "cell_type": "markdown",
      "source": [
        "**Логический**\n",
        "\n",
        "- bool"
      ]
    },
    {
      "metadata": {
        "id": "I2GOStnfoy13",
        "colab_type": "code",
        "colab": {},
        "outputId": "61c70bcc-479f-41dd-fb9a-6d6b97536a56"
      },
      "cell_type": "code",
      "source": [
        "print(True or False)\n",
        "\n",
        "print(not False or some_var) # lazy evaluation\n",
        "\n",
        "print(7 or True)"
      ],
      "execution_count": 0,
      "outputs": [
        {
          "output_type": "stream",
          "text": [
            "True\n",
            "True\n",
            "7\n"
          ],
          "name": "stdout"
        }
      ]
    },
    {
      "metadata": {
        "id": "zWpl1gExoy17",
        "colab_type": "text"
      },
      "cell_type": "markdown",
      "source": [
        "**None**"
      ]
    },
    {
      "metadata": {
        "id": "ryUeBHV6oy18",
        "colab_type": "code",
        "colab": {},
        "outputId": "659692ab-708a-4ea1-b3e9-644aa46879d7"
      },
      "cell_type": "code",
      "source": [
        "a = None\n",
        "print(a, type(a))\n",
        "\n",
        "print(None == None)\n",
        "\n",
        "print(bool(None))"
      ],
      "execution_count": 0,
      "outputs": [
        {
          "output_type": "stream",
          "text": [
            "None <class 'NoneType'>\n",
            "True\n",
            "False\n"
          ],
          "name": "stdout"
        }
      ]
    },
    {
      "metadata": {
        "id": "WHIoSzWgoy2A",
        "colab_type": "text"
      },
      "cell_type": "markdown",
      "source": [
        "**Строки**\n",
        "\n",
        "В Python 3 все строки - unicode, в отличие от Python 2, где unicode был отдельным типом"
      ]
    },
    {
      "metadata": {
        "id": "5wZrHjq-oy2B",
        "colab_type": "code",
        "colab": {},
        "outputId": "538aed01-740f-4912-c219-d7632182a94e"
      },
      "cell_type": "code",
      "source": [
        "s = 'Hello'\n",
        "print (s[len(s) - 4])"
      ],
      "execution_count": 0,
      "outputs": [
        {
          "output_type": "stream",
          "text": [
            "e\n"
          ],
          "name": "stdout"
        }
      ]
    },
    {
      "metadata": {
        "id": "j5_MebMpoy2G",
        "colab_type": "text"
      },
      "cell_type": "markdown",
      "source": [
        "Строки **неизменяемые**"
      ]
    },
    {
      "metadata": {
        "id": "Odo6-V-voy2H",
        "colab_type": "code",
        "colab": {},
        "outputId": "fe30bffe-dac3-42c3-f488-4cd7f89c88a0"
      },
      "cell_type": "code",
      "source": [
        "s[0] = 'P'"
      ],
      "execution_count": 0,
      "outputs": [
        {
          "output_type": "error",
          "ename": "TypeError",
          "evalue": "'str' object does not support item assignment",
          "traceback": [
            "\u001b[1;31m---------------------------------------------------------------------------\u001b[0m",
            "\u001b[1;31mTypeError\u001b[0m                                 Traceback (most recent call last)",
            "\u001b[1;32m<ipython-input-7-414ffc780e5f>\u001b[0m in \u001b[0;36m<module>\u001b[1;34m()\u001b[0m\n\u001b[1;32m----> 1\u001b[1;33m \u001b[0ms\u001b[0m\u001b[1;33m[\u001b[0m\u001b[1;36m0\u001b[0m\u001b[1;33m]\u001b[0m \u001b[1;33m=\u001b[0m \u001b[1;34m'P'\u001b[0m\u001b[1;33m\u001b[0m\u001b[0m\n\u001b[0m",
            "\u001b[1;31mTypeError\u001b[0m: 'str' object does not support item assignment"
          ]
        }
      ]
    },
    {
      "metadata": {
        "id": "75HuTDHnoy2L",
        "colab_type": "text"
      },
      "cell_type": "markdown",
      "source": [
        "Символ в строке можно изменить, например, так:"
      ]
    },
    {
      "metadata": {
        "id": "PxEWJPKUoy2M",
        "colab_type": "code",
        "colab": {},
        "outputId": "8445250f-86c8-4d87-f259-46f85b319f21"
      },
      "cell_type": "code",
      "source": [
        "s = 'tha text'\n",
        "s = s[:2] + 'e' + s[3:]\n",
        "print(s)"
      ],
      "execution_count": 0,
      "outputs": [
        {
          "output_type": "stream",
          "text": [
            "the text\n"
          ],
          "name": "stdout"
        }
      ]
    },
    {
      "metadata": {
        "id": "i3Qxh_7qoy2R",
        "colab_type": "text"
      },
      "cell_type": "markdown",
      "source": [
        "Строки очень просто \"размножать\""
      ]
    },
    {
      "metadata": {
        "id": "yki9NQeZoy2S",
        "colab_type": "code",
        "colab": {},
        "outputId": "820251db-ddd0-4fdd-b477-2b04e045cc12"
      },
      "cell_type": "code",
      "source": [
        "print('хрю ' * 17)"
      ],
      "execution_count": 0,
      "outputs": [
        {
          "output_type": "stream",
          "text": [
            "хрю хрю хрю хрю хрю хрю хрю хрю хрю хрю хрю хрю хрю хрю хрю хрю хрю \n"
          ],
          "name": "stdout"
        }
      ]
    },
    {
      "metadata": {
        "id": "NPPcJXbnoy2Z",
        "colab_type": "text"
      },
      "cell_type": "markdown",
      "source": [
        "У строк есть много встроенных полезных функций, например, `strip`, `split`, `upper`, `lower` и т.д."
      ]
    },
    {
      "metadata": {
        "id": "K1xJiJFpoy2b",
        "colab_type": "code",
        "colab": {},
        "outputId": "fa74f9ff-9c8d-4d05-9d71-6120d1c0cf38"
      },
      "cell_type": "code",
      "source": [
        "hi = 'HeLLo wOrld!'\n",
        "hi, hi.upper(), hi.lower()"
      ],
      "execution_count": 0,
      "outputs": [
        {
          "output_type": "execute_result",
          "data": {
            "text/plain": [
              "('HeLLo wOrld!', 'HELLO WORLD!', 'hello world!')"
            ]
          },
          "metadata": {
            "tags": []
          },
          "execution_count": 10
        }
      ]
    },
    {
      "metadata": {
        "id": "gyrJj4Ecoy2h",
        "colab_type": "code",
        "colab": {},
        "outputId": "5c1e5d83-72b1-4bb2-a267-badcbc4f90ba"
      },
      "cell_type": "code",
      "source": [
        "s = \"\"\"                                 Multiline string\n",
        "          \n",
        "  \n",
        "\"\"\"\n",
        "print(s.strip())"
      ],
      "execution_count": 0,
      "outputs": [
        {
          "output_type": "stream",
          "text": [
            "Multiline string\n"
          ],
          "name": "stdout"
        }
      ]
    },
    {
      "metadata": {
        "id": "rprmc2ORoy2n",
        "colab_type": "code",
        "colab": {},
        "outputId": "f50266b0-dac5-475a-ef11-d875057313b6"
      },
      "cell_type": "code",
      "source": [
        "s = 'very long text'\n",
        "splitted = s.split(' ') \n",
        "print(splitted)\n",
        "print('_'.join(splitted))"
      ],
      "execution_count": 0,
      "outputs": [
        {
          "output_type": "stream",
          "text": [
            "['very', 'long', 'text']\n",
            "very_long_text\n"
          ],
          "name": "stdout"
        }
      ]
    },
    {
      "metadata": {
        "id": "SFXz2t83oy2r",
        "colab_type": "text"
      },
      "cell_type": "markdown",
      "source": [
        "Множественное присваивание"
      ]
    },
    {
      "metadata": {
        "id": "CXpVvG9Voy2s",
        "colab_type": "code",
        "colab": {},
        "outputId": "0c1e5a40-6535-49e2-cb33-387c45d0d947"
      },
      "cell_type": "code",
      "source": [
        "a = 10\n",
        "print(a)\n",
        "\n",
        "b, c = 3.14, 15\n",
        "print(b, c)\n",
        "print(type(a), type(b), type(c))\n",
        "\n",
        "b, c = c, b\n",
        "print(b, c)\n",
        "print(type(a), type(b), type(c))"
      ],
      "execution_count": 0,
      "outputs": [
        {
          "output_type": "stream",
          "text": [
            "10\n",
            "3.14 15\n",
            "<class 'int'> <class 'float'> <class 'int'>\n",
            "15 3.14\n",
            "<class 'int'> <class 'int'> <class 'float'>\n"
          ],
          "name": "stdout"
        }
      ]
    },
    {
      "metadata": {
        "id": "9ccjMmc7oy2w",
        "colab_type": "text"
      },
      "cell_type": "markdown",
      "source": [
        "**Неизменяемые (immutable) типы**\n",
        "\n",
        "`int, float, complex, bool, str, tuple, frozenset`\n",
        "\n",
        "При попытке совершить изменяющую операцию с неизменяемым объектом будет создана копия объекта (например, оператор `+=`) или будет выброшено искоючение (например, оператор `[]`)\n",
        "\n",
        "**Изменяемые (mutable) типы**\n",
        "\n",
        "Пример: `list, dict, set`\n",
        "\n",
        "\n",
        "**Создание и удаление**\n",
        "\n",
        "Два созданных отдельно `mutable` объекта будут гарантированно разными, для `immutable` объектов это верно не всегда\n",
        "\n",
        "Об удалении объектов позаботится garbage collector, но, при желании, можно использовать `del` и модуль `gc`"
      ]
    },
    {
      "metadata": {
        "id": "PJhxIEPNoy2x",
        "colab_type": "text"
      },
      "cell_type": "markdown",
      "source": [
        "### Управляющие конструкции"
      ]
    },
    {
      "metadata": {
        "id": "lsDceRwQoy2y",
        "colab_type": "text"
      },
      "cell_type": "markdown",
      "source": [
        "Условный оператор if-elif-else. Все логические блоки выделяются отступами, по PEP 8 - 4 пробела"
      ]
    },
    {
      "metadata": {
        "id": "eks2UsC-oy2z",
        "colab_type": "code",
        "colab": {},
        "outputId": "0624b49b-358a-4b2e-fd3a-2323bcb386b4"
      },
      "cell_type": "code",
      "source": [
        "a = 2\n",
        "\n",
        "if a > 5:\n",
        "    print('> 5')\n",
        "elif a == 5:\n",
        "    print('5')\n",
        "elif a < 5:\n",
        "    print('< 5')\n",
        "else:\n",
        "    print('WTF?!')"
      ],
      "execution_count": 0,
      "outputs": [
        {
          "output_type": "stream",
          "text": [
            "< 5\n"
          ],
          "name": "stdout"
        }
      ]
    },
    {
      "metadata": {
        "id": "3686XJ-moy22",
        "colab_type": "text"
      },
      "cell_type": "markdown",
      "source": [
        "while с постусловием"
      ]
    },
    {
      "metadata": {
        "id": "txoS5WHgoy22",
        "colab_type": "code",
        "colab": {},
        "outputId": "7eb7467d-d723-44ed-ecab-159549473685"
      },
      "cell_type": "code",
      "source": [
        "i = 0\n",
        "while i < 5:\n",
        "    print(i)\n",
        "    i += 1\n",
        "else:\n",
        "    print('End')"
      ],
      "execution_count": 0,
      "outputs": [
        {
          "output_type": "stream",
          "text": [
            "0\n",
            "1\n",
            "2\n",
            "3\n",
            "4\n",
            "End\n"
          ],
          "name": "stdout"
        }
      ]
    },
    {
      "metadata": {
        "id": "PWz1Jnjqoy25",
        "colab_type": "text"
      },
      "cell_type": "markdown",
      "source": [
        "Аналогично для for"
      ]
    },
    {
      "metadata": {
        "id": "ti5ONDpjoy26",
        "colab_type": "code",
        "colab": {},
        "outputId": "1faee011-a176-4673-bc38-a105faac6de3"
      },
      "cell_type": "code",
      "source": [
        "for i in range(5):\n",
        "    print(i)\n",
        "else:\n",
        "    print('End')"
      ],
      "execution_count": 0,
      "outputs": [
        {
          "output_type": "stream",
          "text": [
            "0\n",
            "1\n",
            "2\n",
            "3\n",
            "4\n",
            "End\n"
          ],
          "name": "stdout"
        }
      ]
    },
    {
      "metadata": {
        "id": "wx1n6DsVoy2_",
        "colab_type": "text"
      },
      "cell_type": "markdown",
      "source": [
        "При итерировании по списку лучше итерироваться по его содержимому, а не по индексу"
      ]
    },
    {
      "metadata": {
        "id": "ie92NuQRoy3A",
        "colab_type": "code",
        "colab": {},
        "outputId": "405cbddb-769d-4882-e0ea-580f6916c8cf"
      },
      "cell_type": "code",
      "source": [
        "array = [1, 2, 3, 4, 5]\n",
        "for value in array:\n",
        "    print(value)"
      ],
      "execution_count": 0,
      "outputs": [
        {
          "output_type": "stream",
          "text": [
            "1\n",
            "2\n",
            "3\n",
            "4\n",
            "5\n"
          ],
          "name": "stdout"
        }
      ]
    },
    {
      "metadata": {
        "id": "gYngKIJDoy3E",
        "colab_type": "text"
      },
      "cell_type": "markdown",
      "source": [
        "Для поиска элемента в массиве лучше использовать `in`, а не итерироваться по нему руками"
      ]
    },
    {
      "metadata": {
        "id": "Yf6bk-r2oy3F",
        "colab_type": "code",
        "colab": {},
        "outputId": "6900c790-0b20-4e11-89c3-90097889ee61"
      },
      "cell_type": "code",
      "source": [
        "data = [1, 2, 3, 4, 5]\n",
        "element_to_find = 10\n",
        "if element_to_find in data:\n",
        "    print('Found!')\n",
        "else:\n",
        "    print('Not found!')"
      ],
      "execution_count": 0,
      "outputs": [
        {
          "output_type": "stream",
          "text": [
            "Not found!\n"
          ],
          "name": "stdout"
        }
      ]
    },
    {
      "metadata": {
        "id": "mBPKl2gfoy3I",
        "colab_type": "text"
      },
      "cell_type": "markdown",
      "source": [
        "### Тернарный оператор"
      ]
    },
    {
      "metadata": {
        "scrolled": false,
        "id": "7CU-_vpFoy3M",
        "colab_type": "code",
        "colab": {},
        "outputId": "90eebd13-23e1-447a-b3b2-a8e57f3da176"
      },
      "cell_type": "code",
      "source": [
        "b = 10\n",
        "a = b / 2 if b % 2 else b - 1\n",
        "\n",
        "print(a)"
      ],
      "execution_count": 0,
      "outputs": [
        {
          "output_type": "stream",
          "text": [
            "9\n"
          ],
          "name": "stdout"
        }
      ]
    },
    {
      "metadata": {
        "id": "bw-3bXnToy3Q",
        "colab_type": "text"
      },
      "cell_type": "markdown",
      "source": [
        "### Списки (list)"
      ]
    },
    {
      "metadata": {
        "id": "tOsQAiJuoy3S",
        "colab_type": "text"
      },
      "cell_type": "markdown",
      "source": [
        "`list` - аналог массивов в других языках\n",
        "\n",
        "Не стоит путать его со структурой данных (у структуры данных образение по индексу происходит за O(N), у питоновского `list` - O(1))\n",
        "\n",
        "Списки в Python могут содержать объекты разных типов"
      ]
    },
    {
      "metadata": {
        "id": "3EQry_rwoy3T",
        "colab_type": "code",
        "colab": {},
        "outputId": "e9dc3ebe-630a-42da-8e5d-8da79cb52431"
      },
      "cell_type": "code",
      "source": [
        "print([0, 1, 2, 3, 4, 5])\n",
        "print(list(range(6)))"
      ],
      "execution_count": 0,
      "outputs": [
        {
          "output_type": "stream",
          "text": [
            "[0, 1, 2, 3, 4, 5]\n",
            "[0, 1, 2, 3, 4, 5]\n"
          ],
          "name": "stdout"
        }
      ]
    },
    {
      "metadata": {
        "id": "o6ib3emmoy3W",
        "colab_type": "code",
        "colab": {},
        "outputId": "ca86d5eb-9d4b-437c-dba5-50a2b78ccd44"
      },
      "cell_type": "code",
      "source": [
        "a = []\n",
        "a.append(1)\n",
        "a += [2, 3]\n",
        "a.remove(2)\n",
        "print(a)"
      ],
      "execution_count": 0,
      "outputs": [
        {
          "output_type": "stream",
          "text": [
            "[1, 3]\n"
          ],
          "name": "stdout"
        }
      ]
    },
    {
      "metadata": {
        "id": "MH23OJ0foy3Z",
        "colab_type": "code",
        "colab": {},
        "outputId": "7bdf88a3-b3f7-46a4-919d-7395773e150c"
      },
      "cell_type": "code",
      "source": [
        "a = [1, 'str', 3, [1, 2, 3], []]\n",
        "\n",
        "a[0] = 4\n",
        "del a[1]\n",
        "a.insert(1, 'test')\n",
        "\n",
        "print(a)"
      ],
      "execution_count": 0,
      "outputs": [
        {
          "output_type": "stream",
          "text": [
            "[4, 'test', 3, [1, 2, 3], []]\n"
          ],
          "name": "stdout"
        }
      ]
    },
    {
      "metadata": {
        "id": "Da7FXaYfoy3c",
        "colab_type": "text"
      },
      "cell_type": "markdown",
      "source": [
        "Для индексации можно использовать срезы и отрицательные индексы:"
      ]
    },
    {
      "metadata": {
        "id": "jP77JZC4oy3d",
        "colab_type": "code",
        "colab": {},
        "outputId": "cb776823-0b9b-404f-ce6c-a8c679f49353"
      },
      "cell_type": "code",
      "source": [
        "a = list(range(10))\n",
        "print(a)\n",
        "\n",
        "print(a[2:5])   # from 2 to 4\n",
        "print(a[:5])    # begin to 4\n",
        "print(a[:])     # from begin to end\n",
        "print(a[2:8:3]) # every third element from 2 to 7\n",
        "print(a[-1])    # first from the end (last)\n",
        "print(a[-5])    # fifth from the end (last)\n",
        "print(a[::-1])  # reverse list"
      ],
      "execution_count": 0,
      "outputs": [
        {
          "output_type": "stream",
          "text": [
            "[0, 1, 2, 3, 4, 5, 6, 7, 8, 9]\n",
            "[2, 3, 4]\n",
            "[0, 1, 2, 3, 4]\n",
            "[0, 1, 2, 3, 4, 5, 6, 7, 8, 9]\n",
            "[2, 5]\n",
            "9\n",
            "5\n",
            "[9, 8, 7, 6, 5, 4, 3, 2, 1, 0]\n"
          ],
          "name": "stdout"
        }
      ]
    },
    {
      "metadata": {
        "id": "buTHRtvGoy3f",
        "colab_type": "text"
      },
      "cell_type": "markdown",
      "source": [
        "Сортировка"
      ]
    },
    {
      "metadata": {
        "id": "dkbQG4Whoy3h",
        "colab_type": "code",
        "colab": {},
        "outputId": "3b123143-0d5e-4e49-cdc3-17cfd3ea0674"
      },
      "cell_type": "code",
      "source": [
        "a = list(range(10, 0, -1))\n",
        "print(a)\n",
        "\n",
        "b = sorted(a)\n",
        "print(a, b)\n",
        "\n",
        "b.sort(reverse=True)\n",
        "print(a, b)"
      ],
      "execution_count": 0,
      "outputs": [
        {
          "output_type": "stream",
          "text": [
            "[10, 9, 8, 7, 6, 5, 4, 3, 2, 1]\n",
            "[10, 9, 8, 7, 6, 5, 4, 3, 2, 1] [1, 2, 3, 4, 5, 6, 7, 8, 9, 10]\n",
            "[10, 9, 8, 7, 6, 5, 4, 3, 2, 1] [10, 9, 8, 7, 6, 5, 4, 3, 2, 1]\n"
          ],
          "name": "stdout"
        }
      ]
    },
    {
      "metadata": {
        "id": "0VMoXQLFoy3n",
        "colab_type": "text"
      },
      "cell_type": "markdown",
      "source": [
        "### Кортежи (tuple)\n",
        "\n",
        "`tuple` - `immutable`"
      ]
    },
    {
      "metadata": {
        "id": "uZgaohrZoy3o",
        "colab_type": "code",
        "colab": {},
        "outputId": "ac72ac52-4cc4-4623-a033-fe7e09193615"
      },
      "cell_type": "code",
      "source": [
        "a = (1, 2, 3)\n",
        "a[1] = 20"
      ],
      "execution_count": 0,
      "outputs": [
        {
          "output_type": "error",
          "ename": "TypeError",
          "evalue": "'tuple' object does not support item assignment",
          "traceback": [
            "\u001b[1;31m---------------------------------------------------------------------------\u001b[0m",
            "\u001b[1;31mTypeError\u001b[0m                                 Traceback (most recent call last)",
            "\u001b[1;32m<ipython-input-25-c6cfd63bf68d>\u001b[0m in \u001b[0;36m<module>\u001b[1;34m()\u001b[0m\n\u001b[0;32m      1\u001b[0m \u001b[0ma\u001b[0m \u001b[1;33m=\u001b[0m \u001b[1;33m(\u001b[0m\u001b[1;36m1\u001b[0m\u001b[1;33m,\u001b[0m \u001b[1;36m2\u001b[0m\u001b[1;33m,\u001b[0m \u001b[1;36m3\u001b[0m\u001b[1;33m)\u001b[0m\u001b[1;33m\u001b[0m\u001b[0m\n\u001b[1;32m----> 2\u001b[1;33m \u001b[0ma\u001b[0m\u001b[1;33m[\u001b[0m\u001b[1;36m1\u001b[0m\u001b[1;33m]\u001b[0m \u001b[1;33m=\u001b[0m \u001b[1;36m20\u001b[0m\u001b[1;33m\u001b[0m\u001b[0m\n\u001b[0m",
            "\u001b[1;31mTypeError\u001b[0m: 'tuple' object does not support item assignment"
          ]
        }
      ]
    },
    {
      "metadata": {
        "id": "vVfrVa56oy4M",
        "colab_type": "text"
      },
      "cell_type": "markdown",
      "source": [
        "Извлечение элементов из кортежей"
      ]
    },
    {
      "metadata": {
        "id": "LXERPfSnoy4O",
        "colab_type": "code",
        "colab": {},
        "outputId": "07254a91-55af-47a2-cd01-6ac614d1b1df"
      },
      "cell_type": "code",
      "source": [
        "first = ('first', 42)\n",
        "second = ('second', 7)\n",
        "third = ('third', 1337)\n",
        "data = [first, second, third]\n",
        "print(data)\n",
        "\n",
        "for name, value in data:\n",
        "    print(name + ' is ' + str(value))"
      ],
      "execution_count": 0,
      "outputs": [
        {
          "output_type": "stream",
          "text": [
            "[('first', 42), ('second', 7), ('third', 1337)]\n",
            "first is 42\n",
            "second is 7\n",
            "third is 1337\n"
          ],
          "name": "stdout"
        }
      ]
    },
    {
      "metadata": {
        "id": "Da96JZOEoy4U",
        "colab_type": "text"
      },
      "cell_type": "markdown",
      "source": [
        "### Множества (set)"
      ]
    },
    {
      "metadata": {
        "id": "AUVQwRY9oy4X",
        "colab_type": "text"
      },
      "cell_type": "markdown",
      "source": [
        "`set` может содержать в себе __только__ `immutable` объекты"
      ]
    },
    {
      "metadata": {
        "id": "JLxqfuezoy4Y",
        "colab_type": "code",
        "colab": {},
        "outputId": "8e792ab3-ad02-434f-dc88-0f4f3be5e57d"
      },
      "cell_type": "code",
      "source": [
        "print({1, 2, 2, 1, 3})"
      ],
      "execution_count": 0,
      "outputs": [
        {
          "output_type": "stream",
          "text": [
            "{1, 2, 3}\n"
          ],
          "name": "stdout"
        }
      ]
    },
    {
      "metadata": {
        "id": "zd_ioCOaoy4c",
        "colab_type": "code",
        "colab": {},
        "outputId": "ba4d1bcf-5373-4738-e29c-84db41668c78"
      },
      "cell_type": "code",
      "source": [
        "print({1, 2, 3, [4, 5]})"
      ],
      "execution_count": 0,
      "outputs": [
        {
          "output_type": "error",
          "ename": "TypeError",
          "evalue": "unhashable type: 'list'",
          "traceback": [
            "\u001b[1;31m---------------------------------------------------------------------------\u001b[0m",
            "\u001b[1;31mTypeError\u001b[0m                                 Traceback (most recent call last)",
            "\u001b[1;32m<ipython-input-28-cbcc8f9f6b74>\u001b[0m in \u001b[0;36m<module>\u001b[1;34m()\u001b[0m\n\u001b[1;32m----> 1\u001b[1;33m \u001b[0mprint\u001b[0m\u001b[1;33m(\u001b[0m\u001b[1;33m{\u001b[0m\u001b[1;36m1\u001b[0m\u001b[1;33m,\u001b[0m \u001b[1;36m2\u001b[0m\u001b[1;33m,\u001b[0m \u001b[1;36m3\u001b[0m\u001b[1;33m,\u001b[0m \u001b[1;33m[\u001b[0m\u001b[1;36m4\u001b[0m\u001b[1;33m,\u001b[0m \u001b[1;36m5\u001b[0m\u001b[1;33m]\u001b[0m\u001b[1;33m}\u001b[0m\u001b[1;33m)\u001b[0m\u001b[1;33m\u001b[0m\u001b[0m\n\u001b[0m",
            "\u001b[1;31mTypeError\u001b[0m: unhashable type: 'list'"
          ]
        }
      ]
    },
    {
      "metadata": {
        "id": "OMIZnhyGoy4i",
        "colab_type": "text"
      },
      "cell_type": "markdown",
      "source": [
        "Операции над множествами"
      ]
    },
    {
      "metadata": {
        "id": "B8mfcz35oy4j",
        "colab_type": "code",
        "colab": {},
        "outputId": "9796580a-2599-46b5-9a23-a665f8d1c2a2"
      },
      "cell_type": "code",
      "source": [
        "a = {1, 2, 3}\n",
        "b = set([2, 3, 4])\n",
        "\n",
        "a.add(5)\n",
        "b.update({5, 6})\n",
        "a, b"
      ],
      "execution_count": 0,
      "outputs": [
        {
          "output_type": "execute_result",
          "data": {
            "text/plain": [
              "({1, 2, 3, 5}, {2, 3, 4, 5, 6})"
            ]
          },
          "metadata": {
            "tags": []
          },
          "execution_count": 29
        }
      ]
    },
    {
      "metadata": {
        "id": "TjdM2ANsoy4u",
        "colab_type": "code",
        "colab": {},
        "outputId": "cb465018-e5cf-4c19-923b-f79c5d482aa1"
      },
      "cell_type": "code",
      "source": [
        "print (a - b)\n",
        "print (b - a)\n",
        "print (a | b)\n",
        "print (a & b)\n",
        "print (a < b)"
      ],
      "execution_count": 0,
      "outputs": [
        {
          "output_type": "stream",
          "text": [
            "{1}\n",
            "{4, 6}\n",
            "{1, 2, 3, 4, 5, 6}\n",
            "{2, 3, 5}\n",
            "False\n"
          ],
          "name": "stdout"
        }
      ]
    },
    {
      "metadata": {
        "id": "EwAbd_4Coy45",
        "colab_type": "code",
        "colab": {},
        "outputId": "99e1d3e3-2adc-4e7c-d2c5-00bdae67eab8"
      },
      "cell_type": "code",
      "source": [
        "2 in a"
      ],
      "execution_count": 0,
      "outputs": [
        {
          "output_type": "execute_result",
          "data": {
            "text/plain": [
              "True"
            ]
          },
          "metadata": {
            "tags": []
          },
          "execution_count": 31
        }
      ]
    },
    {
      "metadata": {
        "id": "1xroxbA4oy49",
        "colab_type": "text"
      },
      "cell_type": "markdown",
      "source": [
        "### Словари (dict)\n",
        "\n",
        "Ключи должны быть `immutable`, а вот значения нет"
      ]
    },
    {
      "metadata": {
        "id": "PLDnenxyoy4-",
        "colab_type": "code",
        "colab": {},
        "outputId": "44c04890-11d2-4aab-d569-1e774da6d882"
      },
      "cell_type": "code",
      "source": [
        "a = {None: 10, 'key': [1, 2, 3], (-1, 1): 0}\n",
        "a['key'][1] = 10\n",
        "\n",
        "print(a)"
      ],
      "execution_count": 0,
      "outputs": [
        {
          "output_type": "stream",
          "text": [
            "{None: 10, 'key': [1, 10, 3], (-1, 1): 0}\n"
          ],
          "name": "stdout"
        }
      ]
    },
    {
      "metadata": {
        "id": "Poyqhf-Ioy5C",
        "colab_type": "text"
      },
      "cell_type": "markdown",
      "source": [
        "**Замечение:** пустые фигурные скобки - пустой `dict`, а не `set`"
      ]
    },
    {
      "metadata": {
        "id": "f-MDJS9Toy5D",
        "colab_type": "code",
        "colab": {},
        "outputId": "db672d09-0641-477b-bb0e-6c9b657535b3"
      },
      "cell_type": "code",
      "source": [
        "print({} == set())\n",
        "print({} == dict())"
      ],
      "execution_count": 0,
      "outputs": [
        {
          "output_type": "stream",
          "text": [
            "False\n",
            "True\n"
          ],
          "name": "stdout"
        }
      ]
    },
    {
      "metadata": {
        "id": "gvmeFoG9oy5H",
        "colab_type": "text"
      },
      "cell_type": "markdown",
      "source": [
        "Распаковка словарей"
      ]
    },
    {
      "metadata": {
        "id": "MJ5dGmEpoy5I",
        "colab_type": "code",
        "colab": {},
        "outputId": "ba005642-4a02-4723-896f-98e37caf7141"
      },
      "cell_type": "code",
      "source": [
        "settings = {'city' : 'London', 'country' : 'Great Britain'}\n",
        "\n",
        "'{city} is the capital of {country}'.format(**settings)"
      ],
      "execution_count": 0,
      "outputs": [
        {
          "output_type": "execute_result",
          "data": {
            "text/plain": [
              "'London is the capital of Great Britain'"
            ]
          },
          "metadata": {
            "tags": []
          },
          "execution_count": 34
        }
      ]
    },
    {
      "metadata": {
        "id": "6d64VNp1oy5L",
        "colab_type": "text"
      },
      "cell_type": "markdown",
      "source": [
        "`defaultdict`"
      ]
    },
    {
      "metadata": {
        "id": "uCr9pTb1oy5L",
        "colab_type": "code",
        "colab": {},
        "outputId": "04f73197-692b-4e29-fc02-38f05502bd73"
      },
      "cell_type": "code",
      "source": [
        "from collections import defaultdict\n",
        "d = defaultdict(float)\n",
        "\n",
        "print(d)\n",
        "\n",
        "d[345]\n",
        "\n",
        "print(d)"
      ],
      "execution_count": 0,
      "outputs": [
        {
          "output_type": "stream",
          "text": [
            "defaultdict(<class 'float'>, {})\n",
            "defaultdict(<class 'float'>, {345: 0.0})\n"
          ],
          "name": "stdout"
        }
      ]
    },
    {
      "metadata": {
        "id": "wJjQbBUmoy5P",
        "colab_type": "text"
      },
      "cell_type": "markdown",
      "source": [
        "`OrderedDict`"
      ]
    },
    {
      "metadata": {
        "id": "DvI8wK78oy5P",
        "colab_type": "code",
        "colab": {},
        "outputId": "4a811f40-b701-47ed-902e-330cd8a0c702"
      },
      "cell_type": "code",
      "source": [
        "from collections import OrderedDict\n",
        "\n",
        "data = {str(i): i for i in range(5)}\n",
        "\n",
        "print(dict(data))\n",
        "print(OrderedDict(data))"
      ],
      "execution_count": 0,
      "outputs": [
        {
          "output_type": "stream",
          "text": [
            "{'0': 0, '1': 1, '2': 2, '3': 3, '4': 4}\n",
            "OrderedDict([('0', 0), ('1', 1), ('2', 2), ('3', 3), ('4', 4)])\n"
          ],
          "name": "stdout"
        }
      ]
    },
    {
      "metadata": {
        "id": "17XJV676oy5R",
        "colab_type": "text"
      },
      "cell_type": "markdown",
      "source": [
        "### Генераторы"
      ]
    },
    {
      "metadata": {
        "id": "LDD7hn7Moy5S",
        "colab_type": "code",
        "colab": {},
        "outputId": "32b7f6f6-0d26-4d89-8b8a-8e8d8c42aca6"
      },
      "cell_type": "code",
      "source": [
        "l = [i ** 2 for i in range(5)]\n",
        "l"
      ],
      "execution_count": 0,
      "outputs": [
        {
          "output_type": "execute_result",
          "data": {
            "text/plain": [
              "[0, 1, 4, 9, 16]"
            ]
          },
          "metadata": {
            "tags": []
          },
          "execution_count": 37
        }
      ]
    },
    {
      "metadata": {
        "id": "0iy3uunToy5V",
        "colab_type": "code",
        "colab": {},
        "outputId": "ff8aeac2-a606-4c3c-c2a6-fb3c42043801"
      },
      "cell_type": "code",
      "source": [
        "d = {i : i ** 2 for i in range(5)}\n",
        "d"
      ],
      "execution_count": 0,
      "outputs": [
        {
          "output_type": "execute_result",
          "data": {
            "text/plain": [
              "{0: 0, 1: 1, 2: 4, 3: 9, 4: 16}"
            ]
          },
          "metadata": {
            "tags": []
          },
          "execution_count": 38
        }
      ]
    },
    {
      "metadata": {
        "id": "3tG78-qLoy5X",
        "colab_type": "code",
        "colab": {},
        "outputId": "b5949069-6983-4861-c205-289740df93a6"
      },
      "cell_type": "code",
      "source": [
        "s = {i ** 2 for i in range(5)}\n",
        "s"
      ],
      "execution_count": 0,
      "outputs": [
        {
          "output_type": "execute_result",
          "data": {
            "text/plain": [
              "{0, 1, 4, 9, 16}"
            ]
          },
          "metadata": {
            "tags": []
          },
          "execution_count": 39
        }
      ]
    },
    {
      "metadata": {
        "id": "XovyyVRHoy5d",
        "colab_type": "text"
      },
      "cell_type": "markdown",
      "source": [
        "### Хэширование"
      ]
    },
    {
      "metadata": {
        "id": "bOaId-OAoy5e",
        "colab_type": "text"
      },
      "cell_type": "markdown",
      "source": [
        "Для каждого `immutable` объекта можно посчитать хэш"
      ]
    },
    {
      "metadata": {
        "id": "mr1gIXmwoy5f",
        "colab_type": "code",
        "colab": {},
        "outputId": "8eedb0c5-fe82-43e5-f2ee-9efedfc074e7"
      },
      "cell_type": "code",
      "source": [
        "print(hash(1234))\n",
        "print(hash(-12.34))\n",
        "print(hash('smth'))\n",
        "print(hash(('smth', 42)))"
      ],
      "execution_count": 0,
      "outputs": [
        {
          "output_type": "stream",
          "text": [
            "1234\n",
            "-783986623132655628\n",
            "-2850576505802683175\n",
            "-8849478880898631552\n"
          ],
          "name": "stdout"
        }
      ]
    },
    {
      "metadata": {
        "id": "4Z8b54B7oy5k",
        "colab_type": "text"
      },
      "cell_type": "markdown",
      "source": [
        "Для `mutable` объектов хэш посчитать нельзя"
      ]
    },
    {
      "metadata": {
        "id": "qlNXv7hMoy5l",
        "colab_type": "code",
        "colab": {},
        "outputId": "8db34284-8386-42f8-84fd-0c1b991721f6"
      },
      "cell_type": "code",
      "source": [
        "hash(['smth', 42])"
      ],
      "execution_count": 0,
      "outputs": [
        {
          "output_type": "error",
          "ename": "TypeError",
          "evalue": "unhashable type: 'list'",
          "traceback": [
            "\u001b[1;31m---------------------------------------------------------------------------\u001b[0m",
            "\u001b[1;31mTypeError\u001b[0m                                 Traceback (most recent call last)",
            "\u001b[1;32m<ipython-input-41-7393059bd620>\u001b[0m in \u001b[0;36m<module>\u001b[1;34m()\u001b[0m\n\u001b[1;32m----> 1\u001b[1;33m \u001b[0mhash\u001b[0m\u001b[1;33m(\u001b[0m\u001b[1;33m[\u001b[0m\u001b[1;34m'smth'\u001b[0m\u001b[1;33m,\u001b[0m \u001b[1;36m42\u001b[0m\u001b[1;33m]\u001b[0m\u001b[1;33m)\u001b[0m\u001b[1;33m\u001b[0m\u001b[0m\n\u001b[0m",
            "\u001b[1;31mTypeError\u001b[0m: unhashable type: 'list'"
          ]
        }
      ]
    },
    {
      "metadata": {
        "id": "-Nx5Dxy9oy5o",
        "colab_type": "text"
      },
      "cell_type": "markdown",
      "source": [
        "### Ввод и вывод"
      ]
    },
    {
      "metadata": {
        "id": "vsy3JzE9oy5q",
        "colab_type": "code",
        "colab": {},
        "outputId": "94dca126-6b74-48eb-e11e-3686b99d019e"
      },
      "cell_type": "code",
      "source": [
        "a = input()\n",
        "print(2 ** int(a))"
      ],
      "execution_count": 0,
      "outputs": [
        {
          "output_type": "stream",
          "text": [
            "10\n",
            "1024\n"
          ],
          "name": "stdout"
        }
      ]
    },
    {
      "metadata": {
        "id": "0_vyrPGAoy5w",
        "colab_type": "text"
      },
      "cell_type": "markdown",
      "source": [
        "`stdin`, `stderr`, `stdout`"
      ]
    },
    {
      "metadata": {
        "id": "qCNlvynLoy5x",
        "colab_type": "code",
        "colab": {}
      },
      "cell_type": "code",
      "source": [
        "import sys\n",
        "\n",
        "for line in sys.stdin:\n",
        "    sys.stdout.write(line[::-1])"
      ],
      "execution_count": 0,
      "outputs": []
    },
    {
      "metadata": {
        "id": "IXWJ7Mntoy50",
        "colab_type": "text"
      },
      "cell_type": "markdown",
      "source": [
        "Считывание данных из файла с данными"
      ]
    },
    {
      "metadata": {
        "id": "4oNaZA5moy51",
        "colab_type": "code",
        "colab": {}
      },
      "cell_type": "code",
      "source": [
        "f = open('file.txt', 'r', encoding='utf8')\n",
        "lines = f.readlines()\n",
        "f.close()"
      ],
      "execution_count": 0,
      "outputs": []
    },
    {
      "metadata": {
        "id": "nxmuBkjyoy53",
        "colab_type": "text"
      },
      "cell_type": "markdown",
      "source": [
        "**Замечение:** при работе с файлами и другими ресурсами лучше всего использовать context manager"
      ]
    },
    {
      "metadata": {
        "id": "k47qUchIoy54",
        "colab_type": "code",
        "colab": {}
      },
      "cell_type": "code",
      "source": [
        "with open('file.txt') as f:\n",
        "    print(f.read())"
      ],
      "execution_count": 0,
      "outputs": []
    },
    {
      "metadata": {
        "id": "HGSvS4CVoy56",
        "colab_type": "text"
      },
      "cell_type": "markdown",
      "source": [
        "В Python имя каждого объекта - ссылка на соответствующую область памяти. При присваивании объектов происходит копирование ссылки"
      ]
    },
    {
      "metadata": {
        "id": "4jRd6Veioy57",
        "colab_type": "code",
        "colab": {},
        "outputId": "4d61913e-6ece-4280-81b7-1f5471b361c4"
      },
      "cell_type": "code",
      "source": [
        "a = [1, 2, 3]\n",
        "b = a\n",
        "b[1] = 100\n",
        "print(a, b)\n",
        "\n",
        "b = [1, 2, 3]\n",
        "print(a, b)"
      ],
      "execution_count": 0,
      "outputs": [
        {
          "output_type": "stream",
          "text": [
            "[1, 100, 3] [1, 100, 3]\n",
            "[1, 100, 3] [1, 2, 3]\n"
          ],
          "name": "stdout"
        }
      ]
    },
    {
      "metadata": {
        "id": "5FX_bZU7oy5_",
        "colab_type": "text"
      },
      "cell_type": "markdown",
      "source": [
        "Функции и лямбды"
      ]
    },
    {
      "metadata": {
        "id": "Eyw3UOXsoy5_",
        "colab_type": "code",
        "colab": {},
        "outputId": "e0f9423b-3ba8-48b9-b3fe-f499cbc7b0bc"
      },
      "cell_type": "code",
      "source": [
        "def get_degrees(n):\n",
        "    return n ** 2, n ** 3\n",
        "\n",
        "print(get_degrees(12))\n",
        "print((lambda n: (n ** 2, n ** 3))(12))"
      ],
      "execution_count": 0,
      "outputs": [
        {
          "output_type": "stream",
          "text": [
            "(144, 1728)\n",
            "(144, 1728)\n"
          ],
          "name": "stdout"
        }
      ]
    },
    {
      "metadata": {
        "id": "SF5sf-fQoy6C",
        "colab_type": "text"
      },
      "cell_type": "markdown",
      "source": [
        "В Python поддерживаются именованные аргументы"
      ]
    },
    {
      "metadata": {
        "id": "TK7HQ_d3oy6G",
        "colab_type": "code",
        "colab": {},
        "outputId": "786010e8-7459-48dc-b113-cb4d6fa5e422"
      },
      "cell_type": "code",
      "source": [
        "def func(param1, param2='ML', param3=42):\n",
        "    print(param1, param2, param3)\n",
        "\n",
        "func(param2='DL', param1=[0, 0])"
      ],
      "execution_count": 0,
      "outputs": [
        {
          "output_type": "stream",
          "text": [
            "[0, 0] DL 42\n"
          ],
          "name": "stdout"
        }
      ]
    },
    {
      "metadata": {
        "id": "uVv5oh7koy6J",
        "colab_type": "code",
        "colab": {},
        "outputId": "8332114f-6939-417d-e7f3-88bc7b0090ee"
      },
      "cell_type": "code",
      "source": [
        "def func_2(param1, *, param2='ML', param3=42):\n",
        "    print(param1, param2, param3)\n",
        "\n",
        "func_2([0, 0], 'DL')"
      ],
      "execution_count": 0,
      "outputs": [
        {
          "output_type": "error",
          "ename": "TypeError",
          "evalue": "func_2() takes 1 positional argument but 2 were given",
          "traceback": [
            "\u001b[1;31m---------------------------------------------------------------------------\u001b[0m",
            "\u001b[1;31mTypeError\u001b[0m                                 Traceback (most recent call last)",
            "\u001b[1;32m<ipython-input-48-5931be575cc5>\u001b[0m in \u001b[0;36m<module>\u001b[1;34m()\u001b[0m\n\u001b[0;32m      2\u001b[0m     \u001b[0mprint\u001b[0m\u001b[1;33m(\u001b[0m\u001b[0mparam1\u001b[0m\u001b[1;33m,\u001b[0m \u001b[0mparam2\u001b[0m\u001b[1;33m,\u001b[0m \u001b[0mparam3\u001b[0m\u001b[1;33m)\u001b[0m\u001b[1;33m\u001b[0m\u001b[0m\n\u001b[0;32m      3\u001b[0m \u001b[1;33m\u001b[0m\u001b[0m\n\u001b[1;32m----> 4\u001b[1;33m \u001b[0mfunc_2\u001b[0m\u001b[1;33m(\u001b[0m\u001b[1;33m[\u001b[0m\u001b[1;36m0\u001b[0m\u001b[1;33m,\u001b[0m \u001b[1;36m0\u001b[0m\u001b[1;33m]\u001b[0m\u001b[1;33m,\u001b[0m \u001b[1;34m'DL'\u001b[0m\u001b[1;33m)\u001b[0m\u001b[1;33m\u001b[0m\u001b[0m\n\u001b[0m",
            "\u001b[1;31mTypeError\u001b[0m: func_2() takes 1 positional argument but 2 were given"
          ]
        }
      ]
    },
    {
      "metadata": {
        "id": "QXJf02owoy6N",
        "colab_type": "text"
      },
      "cell_type": "markdown",
      "source": [
        "### Классы"
      ]
    },
    {
      "metadata": {
        "id": "gUHURqTHoy6P",
        "colab_type": "code",
        "colab": {},
        "outputId": "d1259fdb-c20a-4ca7-959c-429a03e609a4"
      },
      "cell_type": "code",
      "source": [
        "class MyClass:\n",
        "    def __init__(self, param):\n",
        "        self.field = param\n",
        "\n",
        "    def get_squared_param(self):\n",
        "        return self.field ** 2\n",
        "\n",
        "a = MyClass(10)\n",
        "print(a)\n",
        "print(a.field)\n",
        "print(a.get_squared_param())"
      ],
      "execution_count": 0,
      "outputs": [
        {
          "output_type": "stream",
          "text": [
            "<__main__.MyClass object at 0x0000024492F46908>\n",
            "10\n",
            "100\n"
          ],
          "name": "stdout"
        }
      ]
    },
    {
      "metadata": {
        "id": "4T_dfSQFoy6S",
        "colab_type": "text"
      },
      "cell_type": "markdown",
      "source": [
        "- Служебные методы принято называть с двумя подчеркиваниями в начале и конце. Так, например, `__init__` — конструктор (на самом деле, не совсем привычный по C++ конструктор)\n",
        "- Первый параметр каждого метода — сам объект, для которого вызывается метод. Принято называть его `self`"
      ]
    },
    {
      "metadata": {
        "id": "WwBjMuHBoy6S",
        "colab_type": "text"
      },
      "cell_type": "markdown",
      "source": [
        "**_ и __ в именах**\n",
        "\n",
        "- \\_single_leading_underscore\n",
        "\n",
        "weak \"internal use\" indicator. E.g. `from M import *` does not import objects whose name starts with an underscore.\n",
        "\n",
        "- single_trailing_underscore_\n",
        "\n",
        "used by convention to avoid conflicts with Python keyword, e.g. `Tkinter.Toplevel(master, class_='ClassName')`\n",
        "\n",
        "- \\_\\_double_leading_underscore\n",
        "\n",
        "when naming a class attribute, invokes name mangling: inside class FooBar, `__boo` becomes `_FooBar__boo`\n",
        "\n",
        "- \\_\\_double_leading_and_trailing_underscore\\_\\_\n",
        "\n",
        "\"magic\" objects or attributes that live in user-controlled namespaces. E.g. `__init__`,  `__import__` or `__file__`. Never invent such names; only use them as documented."
      ]
    },
    {
      "metadata": {
        "id": "swytfFCOoy6T",
        "colab_type": "code",
        "colab": {},
        "outputId": "bdedf23f-df71-426f-b6ff-86e0a1e130e5"
      },
      "cell_type": "code",
      "source": [
        "class MyClass:\n",
        "    def __init__(self):\n",
        "        self._internal_param = 6\n",
        "        self.__mangled_param = 2\n",
        "\n",
        "obj = MyClass()\n",
        "\n",
        "print(obj._internal_param)\n",
        "print(obj.__mangled_param)"
      ],
      "execution_count": 0,
      "outputs": [
        {
          "output_type": "stream",
          "text": [
            "6\n"
          ],
          "name": "stdout"
        },
        {
          "output_type": "error",
          "ename": "AttributeError",
          "evalue": "'MyClass' object has no attribute '__mangled_param'",
          "traceback": [
            "\u001b[1;31m---------------------------------------------------------------------------\u001b[0m",
            "\u001b[1;31mAttributeError\u001b[0m                            Traceback (most recent call last)",
            "\u001b[1;32m<ipython-input-50-98b2bb4eb28f>\u001b[0m in \u001b[0;36m<module>\u001b[1;34m()\u001b[0m\n\u001b[0;32m      7\u001b[0m \u001b[1;33m\u001b[0m\u001b[0m\n\u001b[0;32m      8\u001b[0m \u001b[0mprint\u001b[0m\u001b[1;33m(\u001b[0m\u001b[0mobj\u001b[0m\u001b[1;33m.\u001b[0m\u001b[0m_internal_param\u001b[0m\u001b[1;33m)\u001b[0m\u001b[1;33m\u001b[0m\u001b[0m\n\u001b[1;32m----> 9\u001b[1;33m \u001b[0mprint\u001b[0m\u001b[1;33m(\u001b[0m\u001b[0mobj\u001b[0m\u001b[1;33m.\u001b[0m\u001b[0m__mangled_param\u001b[0m\u001b[1;33m)\u001b[0m\u001b[1;33m\u001b[0m\u001b[0m\n\u001b[0m",
            "\u001b[1;31mAttributeError\u001b[0m: 'MyClass' object has no attribute '__mangled_param'"
          ]
        }
      ]
    },
    {
      "metadata": {
        "id": "-EeLEqpYoy6Y",
        "colab_type": "text"
      },
      "cell_type": "markdown",
      "source": [
        "### Внутренние переменные"
      ]
    },
    {
      "metadata": {
        "id": "YorYz-88oy6Z",
        "colab_type": "text"
      },
      "cell_type": "markdown",
      "source": [
        "Работа с полями объекта - работа с его `__dict__`"
      ]
    },
    {
      "metadata": {
        "id": "OkZFrW53oy6a",
        "colab_type": "code",
        "colab": {},
        "outputId": "9480a007-d1df-4c0a-cd49-636128babb8f"
      },
      "cell_type": "code",
      "source": [
        "class MyClass:\n",
        "    CLASS_COSTANT = 42\n",
        "    \n",
        "    def __init__(self):\n",
        "        self.var = 123\n",
        "        self.name = 'my_class_name'\n",
        "\n",
        "t = MyClass()\n",
        "print('class dict:', MyClass.__dict__)\n",
        "print('CLASS_COSTANT:', MyClass.__dict__['CLASS_COSTANT'])\n",
        "print('obj dict:', t.__dict__)"
      ],
      "execution_count": 0,
      "outputs": [
        {
          "output_type": "stream",
          "text": [
            "class dict: {'__module__': '__main__', 'CLASS_COSTANT': 42, '__init__': <function MyClass.__init__ at 0x0000024492E82488>, '__dict__': <attribute '__dict__' of 'MyClass' objects>, '__weakref__': <attribute '__weakref__' of 'MyClass' objects>, '__doc__': None}\n",
            "CLASS_COSTANT: 42\n",
            "obj dict: {'var': 123, 'name': 'my_class_name'}\n"
          ],
          "name": "stdout"
        }
      ]
    },
    {
      "metadata": {
        "id": "8hP-gv4Hoy6d",
        "colab_type": "code",
        "colab": {},
        "outputId": "8d484b8b-e095-49c3-b553-efe17099be86"
      },
      "cell_type": "code",
      "source": [
        "MyClass.__class__"
      ],
      "execution_count": 0,
      "outputs": [
        {
          "output_type": "execute_result",
          "data": {
            "text/plain": [
              "type"
            ]
          },
          "metadata": {
            "tags": []
          },
          "execution_count": 52
        }
      ]
    },
    {
      "metadata": {
        "id": "m4w60x1Moy6h",
        "colab_type": "text"
      },
      "cell_type": "markdown",
      "source": [
        "Можно зафиксировать допустимые поля в классе с помощью `__slots__` (но на практике это редко используется)"
      ]
    },
    {
      "metadata": {
        "id": "leNAsPThoy6h",
        "colab_type": "code",
        "colab": {},
        "outputId": "b831e78e-4575-4b33-b7a9-58ab8bd84ce6"
      },
      "cell_type": "code",
      "source": [
        "class MyClass:\n",
        "    __slots__ = ['var1', 'var2']\n",
        "    \n",
        "    def __init__(self):\n",
        "        self.var1 = 1\n",
        "        self.new_var = 2\n",
        "\n",
        "t = MyClass()"
      ],
      "execution_count": 0,
      "outputs": [
        {
          "output_type": "error",
          "ename": "AttributeError",
          "evalue": "'MyClass' object has no attribute 'new_var'",
          "traceback": [
            "\u001b[1;31m---------------------------------------------------------------------------\u001b[0m",
            "\u001b[1;31mAttributeError\u001b[0m                            Traceback (most recent call last)",
            "\u001b[1;32m<ipython-input-53-7ae14f342aae>\u001b[0m in \u001b[0;36m<module>\u001b[1;34m()\u001b[0m\n\u001b[0;32m      6\u001b[0m         \u001b[0mself\u001b[0m\u001b[1;33m.\u001b[0m\u001b[0mnew_var\u001b[0m \u001b[1;33m=\u001b[0m \u001b[1;36m2\u001b[0m\u001b[1;33m\u001b[0m\u001b[0m\n\u001b[0;32m      7\u001b[0m \u001b[1;33m\u001b[0m\u001b[0m\n\u001b[1;32m----> 8\u001b[1;33m \u001b[0mt\u001b[0m \u001b[1;33m=\u001b[0m \u001b[0mMyClass\u001b[0m\u001b[1;33m(\u001b[0m\u001b[1;33m)\u001b[0m\u001b[1;33m\u001b[0m\u001b[0m\n\u001b[0m",
            "\u001b[1;32m<ipython-input-53-7ae14f342aae>\u001b[0m in \u001b[0;36m__init__\u001b[1;34m(self)\u001b[0m\n\u001b[0;32m      4\u001b[0m     \u001b[1;32mdef\u001b[0m \u001b[0m__init__\u001b[0m\u001b[1;33m(\u001b[0m\u001b[0mself\u001b[0m\u001b[1;33m)\u001b[0m\u001b[1;33m:\u001b[0m\u001b[1;33m\u001b[0m\u001b[0m\n\u001b[0;32m      5\u001b[0m         \u001b[0mself\u001b[0m\u001b[1;33m.\u001b[0m\u001b[0mvar1\u001b[0m \u001b[1;33m=\u001b[0m \u001b[1;36m1\u001b[0m\u001b[1;33m\u001b[0m\u001b[0m\n\u001b[1;32m----> 6\u001b[1;33m         \u001b[0mself\u001b[0m\u001b[1;33m.\u001b[0m\u001b[0mnew_var\u001b[0m \u001b[1;33m=\u001b[0m \u001b[1;36m2\u001b[0m\u001b[1;33m\u001b[0m\u001b[0m\n\u001b[0m\u001b[0;32m      7\u001b[0m \u001b[1;33m\u001b[0m\u001b[0m\n\u001b[0;32m      8\u001b[0m \u001b[0mt\u001b[0m \u001b[1;33m=\u001b[0m \u001b[0mMyClass\u001b[0m\u001b[1;33m(\u001b[0m\u001b[1;33m)\u001b[0m\u001b[1;33m\u001b[0m\u001b[0m\n",
            "\u001b[1;31mAttributeError\u001b[0m: 'MyClass' object has no attribute 'new_var'"
          ]
        }
      ]
    },
    {
      "metadata": {
        "id": "W2TmcCsjoy6j",
        "colab_type": "text"
      },
      "cell_type": "markdown",
      "source": [
        "### Наследование\n",
        "\n",
        "- по умолчанию все классы унаследованы от `object`\n",
        "- поддерживается множественное наследование\n",
        "- при обращении к полям и методам обьекта Python сначала пытается найти их в самом объекте, потом в его классе, потом в предках в порядке `Method resolution order`\n",
        "- посмотреть MRO обьекта можно с помощью метода `.mro()`"
      ]
    },
    {
      "metadata": {
        "id": "ABH35gmroy6j",
        "colab_type": "code",
        "colab": {},
        "outputId": "bdb962da-8077-4e1f-fb35-553ab7eaf143"
      },
      "cell_type": "code",
      "source": [
        "class Course:\n",
        "    def __init__(self):\n",
        "        print('Course __init__')\n",
        "        self.room = None\n",
        "\n",
        "        \n",
        "class CSCCourse(Course):\n",
        "    def __init__(self):\n",
        "        print('CSCCourse __init__')\n",
        "        super().__init__()\n",
        "        self.room = 123\n",
        "\n",
        "        \n",
        "class NSUCourse(Course):\n",
        "    def __init__(self):\n",
        "        print('NSUCourse __init__')\n",
        "        super().__init__()\n",
        "        self.room = 456\n",
        "\n",
        "        \n",
        "class DLCourse(CSCCourse, NSUCourse):\n",
        "    def __init__(self):\n",
        "        print('DLCourse __init__')\n",
        "        super().__init__()\n",
        "        \n",
        "        \n",
        "course = DLCourse()"
      ],
      "execution_count": 0,
      "outputs": [
        {
          "output_type": "stream",
          "text": [
            "DLCourse __init__\n",
            "CSCCourse __init__\n",
            "NSUCourse __init__\n",
            "Course __init__\n"
          ],
          "name": "stdout"
        }
      ]
    },
    {
      "metadata": {
        "id": "qPdJiQFBoy6o",
        "colab_type": "code",
        "colab": {},
        "outputId": "b7f1f819-6292-4731-c8de-bfddb0de9f8c"
      },
      "cell_type": "code",
      "source": [
        "DLCourse.mro()"
      ],
      "execution_count": 0,
      "outputs": [
        {
          "output_type": "execute_result",
          "data": {
            "text/plain": [
              "[__main__.DLCourse,\n",
              " __main__.CSCCourse,\n",
              " __main__.NSUCourse,\n",
              " __main__.Course,\n",
              " object]"
            ]
          },
          "metadata": {
            "tags": []
          },
          "execution_count": 55
        }
      ]
    },
    {
      "metadata": {
        "id": "AQnmlo36oy6q",
        "colab_type": "code",
        "colab": {},
        "outputId": "48189c37-f3ac-4877-a42c-50ea81f0330f"
      },
      "cell_type": "code",
      "source": [
        "print(course.room)"
      ],
      "execution_count": 0,
      "outputs": [
        {
          "output_type": "stream",
          "text": [
            "123\n"
          ],
          "name": "stdout"
        }
      ]
    },
    {
      "metadata": {
        "id": "VGrRHD4Uoy6s",
        "colab_type": "code",
        "colab": {}
      },
      "cell_type": "code",
      "source": [
        ""
      ],
      "execution_count": 0,
      "outputs": []
    }
  ]
}